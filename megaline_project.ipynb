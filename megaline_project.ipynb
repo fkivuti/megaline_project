{
  "nbformat": 4,
  "nbformat_minor": 0,
  "metadata": {
    "colab": {
      "name": "megaline_project.ipynb",
      "provenance": [],
      "collapsed_sections": [],
      "toc_visible": true,
      "authorship_tag": "ABX9TyOIAN7/69y6nL7u1dvq9BUc",
      "include_colab_link": true
    },
    "kernelspec": {
      "name": "python3",
      "display_name": "Python 3"
    },
    "language_info": {
      "name": "python"
    }
  },
  "cells": [
    {
      "cell_type": "markdown",
      "metadata": {
        "id": "view-in-github",
        "colab_type": "text"
      },
      "source": [
        "<a href=\"https://colab.research.google.com/github/fkivuti/megaline_project/blob/main/megaline_project.ipynb\" target=\"_parent\"><img src=\"https://colab.research.google.com/assets/colab-badge.svg\" alt=\"Open In Colab\"/></a>"
      ]
    },
    {
      "cell_type": "markdown",
      "metadata": {
        "id": "iTXE93iIU0jF"
      },
      "source": [
        "# Prerequisite"
      ]
    },
    {
      "cell_type": "code",
      "metadata": {
        "id": "XfIptFvARV7v"
      },
      "source": [
        "# import initial libraries i.e. pandas and numpy\n",
        "import pandas as pd\n",
        "import numpy as np"
      ],
      "execution_count": 1,
      "outputs": []
    },
    {
      "cell_type": "markdown",
      "metadata": {
        "id": "LsW7M_YLzfdA"
      },
      "source": [
        "The model to be selected should be the one that best predicts if a customer is recommended an Ultra or Smart subscription plan based on customer behaviour.\n",
        "\n",
        "I view of the above, our problem is a classification problem.\n",
        "\n",
        "The project will be successful if we are able to select the best model among Random Forest, Decision tree and Linear regression models."
      ]
    },
    {
      "cell_type": "markdown",
      "metadata": {
        "id": "shwHmJsSWmgf"
      },
      "source": [
        "# Load and preview the megaline carrier dataset"
      ]
    },
    {
      "cell_type": "code",
      "metadata": {
        "colab": {
          "base_uri": "https://localhost:8080/",
          "height": 200
        },
        "id": "mpy4ay0fWt8O",
        "outputId": "ddf5bafd-5ef4-4db8-f71d-a8be8ba55605"
      },
      "source": [
        "# Import megaline subscriber behaviour dataset and preview the first few records\n",
        "mega_df = pd.read_csv(\"https://bit.ly/UsersBehaviourTelco\")\n",
        "mega_df.head()"
      ],
      "execution_count": 2,
      "outputs": [
        {
          "output_type": "execute_result",
          "data": {
            "text/html": [
              "<div>\n",
              "<style scoped>\n",
              "    .dataframe tbody tr th:only-of-type {\n",
              "        vertical-align: middle;\n",
              "    }\n",
              "\n",
              "    .dataframe tbody tr th {\n",
              "        vertical-align: top;\n",
              "    }\n",
              "\n",
              "    .dataframe thead th {\n",
              "        text-align: right;\n",
              "    }\n",
              "</style>\n",
              "<table border=\"1\" class=\"dataframe\">\n",
              "  <thead>\n",
              "    <tr style=\"text-align: right;\">\n",
              "      <th></th>\n",
              "      <th>calls</th>\n",
              "      <th>minutes</th>\n",
              "      <th>messages</th>\n",
              "      <th>mb_used</th>\n",
              "      <th>is_ultra</th>\n",
              "    </tr>\n",
              "  </thead>\n",
              "  <tbody>\n",
              "    <tr>\n",
              "      <th>0</th>\n",
              "      <td>40.0</td>\n",
              "      <td>311.90</td>\n",
              "      <td>83.0</td>\n",
              "      <td>19915.42</td>\n",
              "      <td>0</td>\n",
              "    </tr>\n",
              "    <tr>\n",
              "      <th>1</th>\n",
              "      <td>85.0</td>\n",
              "      <td>516.75</td>\n",
              "      <td>56.0</td>\n",
              "      <td>22696.96</td>\n",
              "      <td>0</td>\n",
              "    </tr>\n",
              "    <tr>\n",
              "      <th>2</th>\n",
              "      <td>77.0</td>\n",
              "      <td>467.66</td>\n",
              "      <td>86.0</td>\n",
              "      <td>21060.45</td>\n",
              "      <td>0</td>\n",
              "    </tr>\n",
              "    <tr>\n",
              "      <th>3</th>\n",
              "      <td>106.0</td>\n",
              "      <td>745.53</td>\n",
              "      <td>81.0</td>\n",
              "      <td>8437.39</td>\n",
              "      <td>1</td>\n",
              "    </tr>\n",
              "    <tr>\n",
              "      <th>4</th>\n",
              "      <td>66.0</td>\n",
              "      <td>418.74</td>\n",
              "      <td>1.0</td>\n",
              "      <td>14502.75</td>\n",
              "      <td>0</td>\n",
              "    </tr>\n",
              "  </tbody>\n",
              "</table>\n",
              "</div>"
            ],
            "text/plain": [
              "   calls  minutes  messages   mb_used  is_ultra\n",
              "0   40.0   311.90      83.0  19915.42         0\n",
              "1   85.0   516.75      56.0  22696.96         0\n",
              "2   77.0   467.66      86.0  21060.45         0\n",
              "3  106.0   745.53      81.0   8437.39         1\n",
              "4   66.0   418.74       1.0  14502.75         0"
            ]
          },
          "metadata": {},
          "execution_count": 2
        }
      ]
    },
    {
      "cell_type": "markdown",
      "metadata": {
        "id": "42XzJY0KY8sn"
      },
      "source": [
        "# Data Exploration"
      ]
    },
    {
      "cell_type": "code",
      "metadata": {
        "colab": {
          "base_uri": "https://localhost:8080/"
        },
        "id": "ZUibjFIzYxkm",
        "outputId": "8e6546a7-e018-4345-90da-f814898d04ee"
      },
      "source": [
        "# check the structure of the dataframe\n",
        "mega_df.shape"
      ],
      "execution_count": 3,
      "outputs": [
        {
          "output_type": "execute_result",
          "data": {
            "text/plain": [
              "(3214, 5)"
            ]
          },
          "metadata": {},
          "execution_count": 3
        }
      ]
    },
    {
      "cell_type": "code",
      "metadata": {
        "colab": {
          "base_uri": "https://localhost:8080/"
        },
        "id": "J9A91QzwYCtj",
        "outputId": "a3e14eb4-f9eb-4e86-8251-812f81646ad3"
      },
      "source": [
        "# check the column datatypes\n",
        "mega_df.dtypes"
      ],
      "execution_count": null,
      "outputs": [
        {
          "output_type": "execute_result",
          "data": {
            "text/plain": [
              "calls       float64\n",
              "minutes     float64\n",
              "messages    float64\n",
              "mb_used     float64\n",
              "is_ultra      int64\n",
              "dtype: object"
            ]
          },
          "metadata": {},
          "execution_count": 4
        }
      ]
    },
    {
      "cell_type": "code",
      "metadata": {
        "colab": {
          "base_uri": "https://localhost:8080/"
        },
        "id": "Rn16m0a5XqRN",
        "outputId": "eb0b8529-cd40-4849-d8ca-daa569a456ed"
      },
      "source": [
        "# check the mb_used column\n",
        "mega_df['mb_used'].describe()\n"
      ],
      "execution_count": null,
      "outputs": [
        {
          "output_type": "execute_result",
          "data": {
            "text/plain": [
              "count     3214.000000\n",
              "mean     17207.673836\n",
              "std       7570.968246\n",
              "min          0.000000\n",
              "25%      12491.902500\n",
              "50%      16943.235000\n",
              "75%      21424.700000\n",
              "max      49745.730000\n",
              "Name: mb_used, dtype: float64"
            ]
          },
          "metadata": {},
          "execution_count": 3
        }
      ]
    },
    {
      "cell_type": "markdown",
      "metadata": {
        "id": "s37MGoKcaZqE"
      },
      "source": [
        "# Data cleanup"
      ]
    },
    {
      "cell_type": "code",
      "metadata": {
        "colab": {
          "base_uri": "https://localhost:8080/"
        },
        "id": "YjCuvdbtai2R",
        "outputId": "85e3797b-a2f1-4263-de3e-7dc7dc0eca89"
      },
      "source": [
        "# Check for Outliers in the dataframe and decide on what to do with them\n",
        "# We first defining our quantiles using the quantile() function\n",
        "# ---\n",
        "# \n",
        "Q1 = mega_df.quantile(0.25)\n",
        "Q3 = mega_df.quantile(0.75)\n",
        "IQR = Q3 - Q1\n",
        "IQR\n",
        "\n",
        "# Then filtering out our outliers by getting values which are outside our IQR Range.\n",
        "# ---\n",
        "#\n",
        "mega_df_iqr = mega_df[((mega_df < (Q1 - 1.5 * IQR)) | (mega_df > (Q3 + 1.5 * IQR))).any(axis=1)]\n",
        "\n",
        "# One way of dealing with outliers is removing them \n",
        "# Checking the size of the dataset with outliers for cleaning purposes\n",
        "# ---\n",
        "#\n",
        "mega_df_iqr.shape"
      ],
      "execution_count": 4,
      "outputs": [
        {
          "output_type": "execute_result",
          "data": {
            "text/plain": [
              "(208, 5)"
            ]
          },
          "metadata": {},
          "execution_count": 4
        }
      ]
    },
    {
      "cell_type": "markdown",
      "metadata": {
        "id": "PRR7rTZ0a8fs"
      },
      "source": [
        "There are 208 records which were viewed to be outliers. It has been decided that we remove these records before we can create our model"
      ]
    },
    {
      "cell_type": "code",
      "metadata": {
        "colab": {
          "base_uri": "https://localhost:8080/"
        },
        "id": "oPQVxpThbRJc",
        "outputId": "b77e3f4d-2bab-4b30-a3b8-6ace32e05b74"
      },
      "source": [
        "# Lets drop the outliers and retain a clean dataframe\n",
        "clean_df = mega_df[ ~((mega_df < (Q1 - 1.5 * IQR)) | (mega_df > (Q3 + 1.5 * IQR))).any(axis=1)]\n",
        "\n",
        "# Checking the size of our final dataset.\n",
        "clean_df.shape"
      ],
      "execution_count": 5,
      "outputs": [
        {
          "output_type": "execute_result",
          "data": {
            "text/plain": [
              "(3006, 5)"
            ]
          },
          "metadata": {},
          "execution_count": 5
        }
      ]
    },
    {
      "cell_type": "markdown",
      "metadata": {
        "id": "1sxFtF1wcKns"
      },
      "source": [
        "Our clean dataframe has 3006 records after dropping the outliers"
      ]
    },
    {
      "cell_type": "markdown",
      "metadata": {
        "id": "Gaf5X476ewtA"
      },
      "source": [
        "# Modelling"
      ]
    },
    {
      "cell_type": "markdown",
      "metadata": {
        "id": "CzyJI1clx_Nh"
      },
      "source": [
        "Random Forest Regression model"
      ]
    },
    {
      "cell_type": "code",
      "metadata": {
        "colab": {
          "base_uri": "https://localhost:8080/"
        },
        "id": "1Zkr9cSxu52r",
        "outputId": "0028bb69-b170-4137-fb64-e893bf557afa"
      },
      "source": [
        "from sklearn.ensemble import RandomForestRegressor\n",
        "from sklearn.metrics import mean_squared_error\n",
        "from sklearn.model_selection import train_test_split\n",
        "\n",
        "# define features and target\n",
        "features = clean_df.drop(['is_ultra'], axis=1)\n",
        "target = clean_df['is_ultra']\n",
        "\n",
        "# split the dataset between tran set and test set with test_size being 25% of the dataset\n",
        "features_train, features_test, target_train, target_test = train_test_split(\n",
        "    features, target, test_size=0.25, random_state=12345\n",
        ")\n",
        "\n",
        "# declare four variables\n",
        "features_train = features_train\n",
        "target_train = target_train\n",
        "features_test = features_test\n",
        "target_test = target_test\n",
        "\n",
        "# initialize constructor for model that had the best RMSE value\n",
        "rfr_model = RandomForestRegressor(n_estimators=40, random_state=12345)\n",
        "\n",
        "# train model on training set\n",
        "rfr_model.fit(features_train,target_train) \n",
        "\n",
        "#get the test RMSE value\n",
        "#predictions = pd.Series(target.mean(), index=target.index)\n",
        "predictions = rfr_model.predict(features_test)\n",
        "answers = target_test\n",
        "\n",
        "mse= mean_squared_error(answers,predictions)\n",
        "rmse = mse**0.5\n",
        "print('MSE: ', mse)\n",
        "print('RMSE:',rmse)\n",
        "\n",
        "new_features = pd.DataFrame(\n",
        "    [\n",
        "        [90, 500, 83 , 10000],\n",
        "    ],\n",
        "    columns=features.columns\n",
        ")\n",
        "\n",
        "predicted = rfr_model.predict(new_features)  \n",
        "print(predicted)"
      ],
      "execution_count": 22,
      "outputs": [
        {
          "output_type": "stream",
          "name": "stdout",
          "text": [
            "MSE:  0.15733460771276597\n",
            "RMSE: 0.3966542672312577\n",
            "[0.65]\n"
          ]
        }
      ]
    },
    {
      "cell_type": "markdown",
      "metadata": {
        "id": "7k_atSJOyL4N"
      },
      "source": [
        "Linear Regression Model"
      ]
    },
    {
      "cell_type": "code",
      "metadata": {
        "colab": {
          "base_uri": "https://localhost:8080/"
        },
        "id": "80fRGnepvpVQ",
        "outputId": "3f6efbb2-97a1-4ca0-d1c9-df8609f518e6"
      },
      "source": [
        "from sklearn.linear_model import LinearRegression\n",
        "from sklearn.metrics import mean_squared_error\n",
        "from sklearn.model_selection import train_test_split\n",
        "\n",
        "# define features and target\n",
        "features = clean_df.drop(['is_ultra'], axis=1)\n",
        "target = clean_df['is_ultra']\n",
        "\n",
        "# split the dataset between tran set and test set with test_size being 25% of the dataset\n",
        "features_train, features_test, target_train, target_test = train_test_split(\n",
        "    features, target, test_size=0.25, random_state=12345\n",
        ")\n",
        "\n",
        "# declare four variables\n",
        "features_train = features_train\n",
        "target_train = target_train\n",
        "features_test = features_test\n",
        "target_test = target_test\n",
        "\n",
        "# initialize constructor for model that had the best RMSE value\n",
        "lr_model = LinearRegression()\n",
        "\n",
        "# train model on training set\n",
        "lr_model.fit(features_train,target_train) \n",
        "\n",
        "#get the test RMSE value\n",
        "#predictions = pd.Series(target.mean(), index=target.index)\n",
        "predictions2 = lr_model.predict(features_test)\n",
        "answers2 = target_test\n",
        "\n",
        "mse2= mean_squared_error(answers2,predictions2)\n",
        "rmse2 = mse2**0.5\n",
        "print('MSE: ', mse2)\n",
        "print('RMSE:',rmse2)"
      ],
      "execution_count": 19,
      "outputs": [
        {
          "output_type": "stream",
          "name": "stdout",
          "text": [
            "MSE:  0.187616316872702\n",
            "RMSE: 0.4331469922240047\n"
          ]
        }
      ]
    },
    {
      "cell_type": "markdown",
      "metadata": {
        "id": "GW3qyqYqySXh"
      },
      "source": [
        ""
      ]
    },
    {
      "cell_type": "code",
      "metadata": {
        "colab": {
          "base_uri": "https://localhost:8080/"
        },
        "id": "9l90SbKXyZFE",
        "outputId": "5a4b06c6-4f53-4a44-91cc-f8c9b233e471"
      },
      "source": [
        "from sklearn.tree import DecisionTreeRegressor\n",
        "from sklearn.metrics import mean_squared_error\n",
        "from sklearn.model_selection import train_test_split\n",
        "\n",
        "# define features and target\n",
        "features = clean_df.drop(['is_ultra'], axis=1)\n",
        "target = clean_df['is_ultra']\n",
        "\n",
        "# split the dataset between tran set and test set with test_size being 25% of the dataset\n",
        "features_train, features_test, target_train, target_test = train_test_split(\n",
        "    features, target, test_size=0.25, random_state=12345\n",
        ")\n",
        "\n",
        "# declare four variables\n",
        "features_train = features_train\n",
        "target_train = target_train\n",
        "features_test = features_test\n",
        "target_test = target_test\n",
        "\n",
        "# initialize constructor for model that had the best RMSE value\n",
        "dt_model = DecisionTreeRegressor(max_depth=40)\n",
        "\n",
        "# train model on training set\n",
        "dt_model.fit(features_train,target_train) \n",
        "\n",
        "#get the test RMSE value\n",
        "#predictions = pd.Series(target.mean(), index=target.index)\n",
        "predictions3 = dt_model.predict(features_test)\n",
        "answers3 = target_test\n",
        "\n",
        "mse3= mean_squared_error(answers3,predictions3)\n",
        "rmse3 = mse3**0.5\n",
        "print('MSE: ', mse3)\n",
        "print('RMSE:',rmse3)"
      ],
      "execution_count": 18,
      "outputs": [
        {
          "output_type": "stream",
          "name": "stdout",
          "text": [
            "MSE:  0.28856382978723405\n",
            "RMSE: 0.5371813751306295\n"
          ]
        }
      ]
    },
    {
      "cell_type": "markdown",
      "metadata": {
        "id": "W46CigcH5EMY"
      },
      "source": [
        "# Findings / Recommendations\n"
      ]
    },
    {
      "cell_type": "markdown",
      "metadata": {
        "id": "ifGd1K2m5PqX"
      },
      "source": [
        "The selectted model for these project is a Random Forest Regression model. This gave the lowest RMSE value of 0.396. \n",
        "\n",
        "One sample prediction if rounded up indicates that the business should recommend an Ultra plan for the customer who had 90 calls, 500 Minutes, 83 Messages and  10000 mb of data."
      ]
    }
  ]
}