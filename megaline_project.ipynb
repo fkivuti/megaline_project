{
  "nbformat": 4,
  "nbformat_minor": 0,
  "metadata": {
    "colab": {
      "name": "megaline_project.ipynb",
      "provenance": [],
      "collapsed_sections": [],
      "toc_visible": true
    },
    "kernelspec": {
      "name": "python3",
      "display_name": "Python 3"
    },
    "language_info": {
      "name": "python"
    }
  },
  "cells": [
    {
      "cell_type": "markdown",
      "metadata": {
        "id": "iTXE93iIU0jF"
      },
      "source": [
        "# Prerequisite"
      ]
    },
    {
      "cell_type": "code",
      "metadata": {
        "id": "XfIptFvARV7v"
      },
      "source": [
        "# import initial libraries i.e. pandas and numpy\n",
        "import pandas as pd\n",
        "import numpy as np"
      ],
      "execution_count": 1,
      "outputs": []
    }
  ]
}